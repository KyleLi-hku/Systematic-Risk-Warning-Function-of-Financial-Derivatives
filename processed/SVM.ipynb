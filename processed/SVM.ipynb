{
 "cells": [
  {
   "cell_type": "code",
   "execution_count": 10,
   "metadata": {},
   "outputs": [],
   "source": [
    "#read balanced data\n",
    "import pandas as pd\n",
    "df = pd.read_csv('balanced_df_weekly.csv')"
   ]
  },
  {
   "cell_type": "code",
   "execution_count": 11,
   "metadata": {},
   "outputs": [
    {
     "data": {
      "text/html": [
       "<div>\n",
       "<style scoped>\n",
       "    .dataframe tbody tr th:only-of-type {\n",
       "        vertical-align: middle;\n",
       "    }\n",
       "\n",
       "    .dataframe tbody tr th {\n",
       "        vertical-align: top;\n",
       "    }\n",
       "\n",
       "    .dataframe thead th {\n",
       "        text-align: right;\n",
       "    }\n",
       "</style>\n",
       "<table border=\"1\" class=\"dataframe\">\n",
       "  <thead>\n",
       "    <tr style=\"text-align: right;\">\n",
       "      <th></th>\n",
       "      <th>Unnamed: 0</th>\n",
       "      <th>week</th>\n",
       "      <th>future_return</th>\n",
       "      <th>volume</th>\n",
       "      <th>inventory</th>\n",
       "      <th>amount</th>\n",
       "      <th>BASIS</th>\n",
       "      <th>index_turnover_rate</th>\n",
       "      <th>short_balance_ratio</th>\n",
       "      <th>pli</th>\n",
       "      <th>t_spread</th>\n",
       "      <th>RSI</th>\n",
       "      <th>index_trading_volume</th>\n",
       "      <th>CCt+1</th>\n",
       "    </tr>\n",
       "  </thead>\n",
       "  <tbody>\n",
       "    <tr>\n",
       "      <th>0</th>\n",
       "      <td>0</td>\n",
       "      <td>2</td>\n",
       "      <td>-0.056701</td>\n",
       "      <td>13.400486</td>\n",
       "      <td>10.345831</td>\n",
       "      <td>13.400486</td>\n",
       "      <td>31.7160</td>\n",
       "      <td>0.658</td>\n",
       "      <td>0.000010</td>\n",
       "      <td>0.20</td>\n",
       "      <td>2.01880</td>\n",
       "      <td>52.442353</td>\n",
       "      <td>8.499683</td>\n",
       "      <td>0.0</td>\n",
       "    </tr>\n",
       "    <tr>\n",
       "      <th>1</th>\n",
       "      <td>1</td>\n",
       "      <td>3</td>\n",
       "      <td>-0.028819</td>\n",
       "      <td>13.474156</td>\n",
       "      <td>10.799555</td>\n",
       "      <td>13.474156</td>\n",
       "      <td>34.6024</td>\n",
       "      <td>0.490</td>\n",
       "      <td>0.000027</td>\n",
       "      <td>0.20</td>\n",
       "      <td>1.97462</td>\n",
       "      <td>18.350791</td>\n",
       "      <td>8.218636</td>\n",
       "      <td>0.0</td>\n",
       "    </tr>\n",
       "    <tr>\n",
       "      <th>2</th>\n",
       "      <td>2</td>\n",
       "      <td>4</td>\n",
       "      <td>-0.042739</td>\n",
       "      <td>13.527370</td>\n",
       "      <td>10.820138</td>\n",
       "      <td>13.527370</td>\n",
       "      <td>57.0780</td>\n",
       "      <td>0.500</td>\n",
       "      <td>0.000028</td>\n",
       "      <td>0.25</td>\n",
       "      <td>1.94245</td>\n",
       "      <td>17.038370</td>\n",
       "      <td>7.993090</td>\n",
       "      <td>0.0</td>\n",
       "    </tr>\n",
       "    <tr>\n",
       "      <th>3</th>\n",
       "      <td>3</td>\n",
       "      <td>5</td>\n",
       "      <td>-0.048364</td>\n",
       "      <td>14.049264</td>\n",
       "      <td>11.179381</td>\n",
       "      <td>14.049264</td>\n",
       "      <td>16.1712</td>\n",
       "      <td>0.468</td>\n",
       "      <td>0.000056</td>\n",
       "      <td>0.60</td>\n",
       "      <td>1.89940</td>\n",
       "      <td>48.441850</td>\n",
       "      <td>8.089973</td>\n",
       "      <td>0.0</td>\n",
       "    </tr>\n",
       "    <tr>\n",
       "      <th>4</th>\n",
       "      <td>4</td>\n",
       "      <td>6</td>\n",
       "      <td>-0.030835</td>\n",
       "      <td>14.229347</td>\n",
       "      <td>11.294284</td>\n",
       "      <td>14.229347</td>\n",
       "      <td>27.0700</td>\n",
       "      <td>0.448</td>\n",
       "      <td>0.000086</td>\n",
       "      <td>0.40</td>\n",
       "      <td>1.78708</td>\n",
       "      <td>42.878095</td>\n",
       "      <td>7.992870</td>\n",
       "      <td>0.0</td>\n",
       "    </tr>\n",
       "  </tbody>\n",
       "</table>\n",
       "</div>"
      ],
      "text/plain": [
       "   Unnamed: 0  week  future_return     volume  inventory     amount    BASIS  \\\n",
       "0           0     2      -0.056701  13.400486  10.345831  13.400486  31.7160   \n",
       "1           1     3      -0.028819  13.474156  10.799555  13.474156  34.6024   \n",
       "2           2     4      -0.042739  13.527370  10.820138  13.527370  57.0780   \n",
       "3           3     5      -0.048364  14.049264  11.179381  14.049264  16.1712   \n",
       "4           4     6      -0.030835  14.229347  11.294284  14.229347  27.0700   \n",
       "\n",
       "   index_turnover_rate  short_balance_ratio   pli  t_spread        RSI  \\\n",
       "0                0.658             0.000010  0.20   2.01880  52.442353   \n",
       "1                0.490             0.000027  0.20   1.97462  18.350791   \n",
       "2                0.500             0.000028  0.25   1.94245  17.038370   \n",
       "3                0.468             0.000056  0.60   1.89940  48.441850   \n",
       "4                0.448             0.000086  0.40   1.78708  42.878095   \n",
       "\n",
       "   index_trading_volume  CCt+1  \n",
       "0              8.499683    0.0  \n",
       "1              8.218636    0.0  \n",
       "2              7.993090    0.0  \n",
       "3              8.089973    0.0  \n",
       "4              7.992870    0.0  "
      ]
     },
     "execution_count": 11,
     "metadata": {},
     "output_type": "execute_result"
    }
   ],
   "source": [
    "df.head()"
   ]
  },
  {
   "cell_type": "code",
   "execution_count": 12,
   "metadata": {},
   "outputs": [],
   "source": [
    "#use SVM\n",
    "from sklearn import svm\n",
    "import numpy as np\n",
    "from sklearn.model_selection import train_test_split\n",
    "from sklearn.metrics import accuracy_score\n",
    "from sklearn.metrics import confusion_matrix\n",
    "from sklearn.metrics import classification_report\n"
   ]
  },
  {
   "cell_type": "code",
   "execution_count": 13,
   "metadata": {},
   "outputs": [],
   "source": [
    "#split data into training and testing\n",
    "X = df.drop(['CCt+1'], axis=1)\n",
    "y = df['CCt+1']\n",
    "X_train, X_test, y_train, y_test = train_test_split(X, y, test_size=0.2, random_state=0)\n",
    "\n"
   ]
  },
  {
   "cell_type": "code",
   "execution_count": 14,
   "metadata": {},
   "outputs": [],
   "source": [
    "#fit SVM model\n",
    "clf = svm.SVC(kernel='linear', C=1).fit(X_train, y_train)\n",
    "y_pred = clf.predict(X_test)\n"
   ]
  },
  {
   "cell_type": "code",
   "execution_count": 15,
   "metadata": {},
   "outputs": [
    {
     "name": "stdout",
     "output_type": "stream",
     "text": [
      "Accuracy: 0.984\n",
      "Confusion Matrix:\n",
      " [[125   0]\n",
      " [  4 121]]\n",
      "Classification Report:\n",
      "               precision    recall  f1-score   support\n",
      "\n",
      "         0.0       0.97      1.00      0.98       125\n",
      "         1.0       1.00      0.97      0.98       125\n",
      "\n",
      "    accuracy                           0.98       250\n",
      "   macro avg       0.98      0.98      0.98       250\n",
      "weighted avg       0.98      0.98      0.98       250\n",
      "\n"
     ]
    }
   ],
   "source": [
    "#accuracy\n",
    "print(\"Accuracy:\",accuracy_score(y_test, y_pred))\n",
    "#confusion matrix\n",
    "print(\"Confusion Matrix:\\n\",confusion_matrix(y_test, y_pred))\n",
    "#classification report\n",
    "print(\"Classification Report:\\n\",classification_report(y_test, y_pred))"
   ]
  },
  {
   "cell_type": "code",
   "execution_count": 16,
   "metadata": {},
   "outputs": [
    {
     "name": "stdout",
     "output_type": "stream",
     "text": [
      "Accuracy: 0.9384615384615385\n",
      "Confusion Matrix:\n",
      " [[121   1]\n",
      " [  7   1]]\n",
      "Classification Report:\n",
      "               precision    recall  f1-score   support\n",
      "\n",
      "         0.0       0.95      0.99      0.97       122\n",
      "         1.0       0.50      0.12      0.20         8\n",
      "\n",
      "    accuracy                           0.94       130\n",
      "   macro avg       0.72      0.56      0.58       130\n",
      "weighted avg       0.92      0.94      0.92       130\n",
      "\n"
     ]
    }
   ],
   "source": [
    "#use raw data\n",
    "df_raw = pd.read_csv('(raw) Weekly_data.csv')\n",
    "#drop NaN values\n",
    "df_raw = df_raw.dropna()\n",
    "X_raw = df_raw.drop(['CCt+1'], axis=1)\n",
    "y_raw = df_raw['CCt+1']\n",
    "X_train_raw, X_test_raw, y_train_raw, y_test_raw = train_test_split(X_raw, y_raw, test_size=0.2, random_state=0)\n",
    "#fit SVM model\n",
    "clf_raw = svm.SVC(kernel='linear', C=1).fit(X_train_raw, y_train_raw)\n",
    "y_pred_raw = clf_raw.predict(X_test_raw)\n",
    "#accuracy\n",
    "print(\"Accuracy:\",accuracy_score(y_test_raw, y_pred_raw))\n",
    "#confusion matrix\n",
    "print(\"Confusion Matrix:\\n\",confusion_matrix(y_test_raw, y_pred_raw))\n",
    "#classification report\n",
    "print(\"Classification Report:\\n\",classification_report(y_test_raw, y_pred_raw))\n"
   ]
  },
  {
   "cell_type": "code",
   "execution_count": 17,
   "metadata": {},
   "outputs": [
    {
     "name": "stdout",
     "output_type": "stream",
     "text": [
      "Test Data:\n",
      " [0. 0. 0. 0. 0. 0. 0. 0. 0. 0. 0. 0. 0. 0. 0. 0. 0. 0. 0. 0. 0. 0. 0. 0.\n",
      " 0. 0. 0. 0. 1. 0. 0. 0. 0. 0. 0. 0. 0. 0. 0. 0. 0. 0. 0. 0. 0. 0. 0. 0.\n",
      " 0. 0. 0. 0. 0. 0. 0. 0. 0. 0. 1. 0. 0. 0. 0. 0. 0. 0. 0. 0. 0. 0. 0. 0.\n",
      " 0. 0. 0. 0. 0. 0. 0. 0. 0. 0. 0. 0. 0. 0. 0. 0. 0. 0. 0. 0. 0. 0. 0. 0.\n",
      " 0. 0. 0. 0. 0. 0. 0. 0. 0. 0. 0. 0. 0. 0. 0. 0. 0. 0. 0. 0. 0. 0. 0. 0.\n",
      " 0. 0. 0. 0. 0. 0. 0. 0. 0. 0.]\n"
     ]
    }
   ],
   "source": [
    "#print out all the test data\n",
    "print(\"Test Data:\\n\",y_pred_raw)"
   ]
  },
  {
   "cell_type": "code",
   "execution_count": 18,
   "metadata": {},
   "outputs": [
    {
     "name": "stdout",
     "output_type": "stream",
     "text": [
      "Test Data:\n",
      " [1. 0. 0. 0. 0. 1. 1. 1. 0. 1. 1. 1. 0. 0. 0. 1. 1. 0. 1. 0. 1. 0. 0. 1.\n",
      " 1. 0. 0. 1. 1. 0. 1. 0. 0. 1. 0. 1. 0. 1. 0. 0. 1. 1. 1. 0. 1. 0. 1. 0.\n",
      " 0. 0. 0. 1. 1. 0. 0. 0. 0. 1. 1. 1. 0. 1. 1. 1. 0. 1. 1. 0. 0. 0. 0. 1.\n",
      " 1. 1. 1. 1. 0. 1. 0. 1. 1. 1. 0. 0. 0. 0. 1. 1. 0. 1. 1. 1. 1. 1. 1. 1.\n",
      " 0. 1. 1. 1. 0. 1. 0. 0. 0. 0. 0. 0. 1. 0. 0. 0. 0. 0. 0. 1. 0. 0. 0. 0.\n",
      " 1. 0. 0. 1. 0. 0. 1. 1. 0. 1. 0. 1. 0. 0. 0. 0. 1. 0. 0. 0. 0. 0. 0. 1.\n",
      " 0. 1. 1. 0. 0. 1. 1. 1. 1. 1. 1. 0. 0. 1. 0. 1. 0. 1. 1. 1. 0. 0. 1. 1.\n",
      " 1. 0. 0. 1. 1. 0. 1. 1. 1. 0. 1. 0. 0. 1. 0. 1. 1. 1. 0. 1. 1. 0. 1. 0.\n",
      " 0. 1. 0. 1. 1. 0. 0. 1. 0. 1. 0. 0. 0. 0. 0. 1. 0. 1. 0. 0. 1. 0. 1. 0.\n",
      " 1. 1. 1. 1. 0. 0. 1. 1. 1. 0. 1. 1. 1. 1. 1. 0. 0. 0. 0. 1. 0. 0. 0. 1.\n",
      " 0. 0. 0. 0. 0. 0. 1. 0. 1. 1.]\n"
     ]
    }
   ],
   "source": [
    "#print out all the test balance data\n",
    "print(\"Test Data:\\n\",y_pred)"
   ]
  }
 ],
 "metadata": {
  "kernelspec": {
   "display_name": "sklearn1.0",
   "language": "python",
   "name": "python3"
  },
  "language_info": {
   "codemirror_mode": {
    "name": "ipython",
    "version": 3
   },
   "file_extension": ".py",
   "mimetype": "text/x-python",
   "name": "python",
   "nbconvert_exporter": "python",
   "pygments_lexer": "ipython3",
   "version": "3.7.16"
  },
  "orig_nbformat": 4
 },
 "nbformat": 4,
 "nbformat_minor": 2
}
